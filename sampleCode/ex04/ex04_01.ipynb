{
 "cells": [
  {
   "cell_type": "code",
   "execution_count": 15,
   "metadata": {},
   "outputs": [],
   "source": [
    "def f1(a, b, *c):\n",
    "    #c는 가변 매개변수 (몇개까지 정의하는지 생략)\n",
    "    print(str(a) + '함수 호출')\n",
    "    print(str(b) + '함수 호출')\n",
    "    #return #호출 코드로 복귀 밑에 줄은 무시된다.\n",
    "    print(str(c) + '함수 호출')\n",
    "    #return a + b + c"
   ]
  },
  {
   "cell_type": "code",
   "execution_count": 16,
   "metadata": {},
   "outputs": [
    {
     "name": "stdout",
     "output_type": "stream",
     "text": [
      "1함수 호출\n",
      "2함수 호출\n",
      "(3, 4, 5, 6)함수 호출\n"
     ]
    }
   ],
   "source": [
    "f1(1,2,3,4,5,6)\n"
   ]
  },
  {
   "cell_type": "code",
   "execution_count": null,
   "metadata": {},
   "outputs": [],
   "source": []
  }
 ],
 "metadata": {
  "kernelspec": {
   "display_name": "Python 3",
   "language": "python",
   "name": "python3"
  },
  "language_info": {
   "codemirror_mode": {
    "name": "ipython",
    "version": 3
   },
   "file_extension": ".py",
   "mimetype": "text/x-python",
   "name": "python",
   "nbconvert_exporter": "python",
   "pygments_lexer": "ipython3",
   "version": "3.12.2"
  }
 },
 "nbformat": 4,
 "nbformat_minor": 2
}
