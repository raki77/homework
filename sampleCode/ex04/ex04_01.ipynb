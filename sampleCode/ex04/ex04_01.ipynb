{
 "cells": [
  {
   "cell_type": "code",
   "execution_count": 15,
   "metadata": {},
   "outputs": [],
   "source": [
    "def f1(a, b, *c):\n",
    "    #c는 가변 매개변수 (몇개까지 정의하는지 생략)\n",
    "    print(str(a) + '함수 호출')\n",
    "    print(str(b) + '함수 호출')\n",
    "    #return #호출 코드로 복귀 밑에 줄은 무시된다.\n",
    "    print(str(c) + '함수 호출')\n",
    "    #return a + b + c "
   ]
  },
  {
   "cell_type": "code",
   "execution_count": 16,
   "metadata": {},
   "outputs": [
    {
     "name": "stdout",
     "output_type": "stream",
     "text": [
      "1함수 호출\n",
      "2함수 호출\n",
      "(3, 4, 5, 6)함수 호출\n"
     ]
    }
   ],
   "source": [
    "f1(1,2,3,4,5,6)\n"
   ]
  },
  {
   "cell_type": "code",
   "execution_count": null,
   "metadata": {},
   "outputs": [],
   "source": [
    "def open_account():\n",
    "    print(\"새로운 계좌를 개설합니다.\")\n",
    "\n",
    "open_account() # 앞에 정의한 open_account() 함수 호출\n",
    "\n",
    "def deposit(balance, money): # 입금 처리 함수                       매개변수 parameter\n",
    "    print(\"{0}원을 입금했습니다. 잔액은 {1}원입니다.\".format(money, balance + money))\n",
    "    return balance + money # 입금 후 잔액 정보 반환\n",
    "\n",
    "def withdraw_night(balance, money): # 업무 시간 외 출금\n",
    "    commission = 100 # 출금 수수료 100원\n",
    "    print(\"업무 시간 외에 {}원을 출금했습니다.\" .format(money))\n",
    "    return commission, balance - money – commission\n",
    "\n",
    "# 업무 시간 외 출금 시도\n",
    "commission, balance = withdraw_night(balance, 500)\n",
    "print(\"수수료 {0}원이며, 잔액은 {1}원입니다.\".format(commission, balance))\n"
   ]
  }
 ],
 "metadata": {
  "kernelspec": {
   "display_name": "Python 3",
   "language": "python",
   "name": "python3"
  },
  "language_info": {
   "codemirror_mode": {
    "name": "ipython",
    "version": 3
   },
   "file_extension": ".py",
   "mimetype": "text/x-python",
   "name": "python",
   "nbconvert_exporter": "python",
   "pygments_lexer": "ipython3",
   "version": "3.12.2"
  }
 },
 "nbformat": 4,
 "nbformat_minor": 2
}
