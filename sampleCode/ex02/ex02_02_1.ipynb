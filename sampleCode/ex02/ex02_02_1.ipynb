{
 "cells": [
  {
   "cell_type": "code",
   "execution_count": 1,
   "metadata": {},
   "outputs": [
    {
     "name": "stdout",
     "output_type": "stream",
     "text": [
      "a = 2323123\n",
      "c = 2323123\n",
      "b = bbb\n",
      "2323123\n"
     ]
    }
   ],
   "source": [
    "a = int(input(\"값을 입력하세요: \" ))\n",
    "b = input(\"값을 입력하세요: \" )\n",
    "c = str(a)\n",
    "print(\"a =\" , a)\n",
    "print(\"c =\" , c)\n",
    "print(\"b =\" , b)\n",
    "print(c)"
   ]
  }
 ],
 "metadata": {
  "kernelspec": {
   "display_name": "Python 3",
   "language": "python",
   "name": "python3"
  },
  "language_info": {
   "codemirror_mode": {
    "name": "ipython",
    "version": 3
   },
   "file_extension": ".py",
   "mimetype": "text/x-python",
   "name": "python",
   "nbconvert_exporter": "python",
   "pygments_lexer": "ipython3",
   "version": "3.12.2"
  }
 },
 "nbformat": 4,
 "nbformat_minor": 2
}
