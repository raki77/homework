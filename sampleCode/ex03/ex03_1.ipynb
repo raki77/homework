{
 "cells": [
  {
   "cell_type": "code",
   "execution_count": 4,
   "metadata": {},
   "outputs": [
    {
     "name": "stdout",
     "output_type": "stream",
     "text": [
      "[1, 2, 3, '빅데이터', True]\n",
      "1\n",
      "True\n"
     ]
    }
   ],
   "source": [
    "a = [ 1,2,3,\"빅데이터\", True]\n",
    "print(a)\n",
    "print(a[0])\n",
    "print(a[4])"
   ]
  },
  {
   "cell_type": "code",
   "execution_count": 6,
   "metadata": {},
   "outputs": [
    {
     "name": "stdout",
     "output_type": "stream",
     "text": [
      "100\n"
     ]
    }
   ],
   "source": [
    "a[0] = 100\n",
    "print(a[0])"
   ]
  },
  {
   "cell_type": "code",
   "execution_count": 9,
   "metadata": {},
   "outputs": [
    {
     "name": "stdout",
     "output_type": "stream",
     "text": [
      "2\n",
      "9\n"
     ]
    }
   ],
   "source": [
    "b = [[1,2,3],[4,5,6],[7,8,9]]\n",
    "print(b[0][1])\n",
    "print(b[2][2])"
   ]
  },
  {
   "cell_type": "code",
   "execution_count": 11,
   "metadata": {},
   "outputs": [
    {
     "name": "stdout",
     "output_type": "stream",
     "text": [
      "True\n"
     ]
    }
   ],
   "source": [
    "print(10 not in a)"
   ]
  },
  {
   "cell_type": "code",
   "execution_count": 13,
   "metadata": {},
   "outputs": [
    {
     "name": "stdout",
     "output_type": "stream",
     "text": [
      "[1, 2, 3, [4, 5, 6]]\n"
     ]
    }
   ],
   "source": [
    "a= [1,2,3]\n",
    "b= [4,5,6]\n",
    "a.append(b)\n",
    "print(a)"
   ]
  },
  {
   "cell_type": "code",
   "execution_count": 18,
   "metadata": {},
   "outputs": [
    {
     "name": "stdout",
     "output_type": "stream",
     "text": [
      "[1, 3, 5, 6, 6, 7]\n",
      "[6, 6, 7]\n"
     ]
    }
   ],
   "source": [
    "#인덱스 제거 del\n",
    "a = [1,23,3,5,6,6,7]\n",
    "del a[1]\n",
    "print(a)\n",
    "\n",
    "del a[0:3] #3은 포함되지 않는다.\n",
    "print(a)"
   ]
  },
  {
   "cell_type": "code",
   "execution_count": 20,
   "metadata": {},
   "outputs": [
    {
     "name": "stdout",
     "output_type": "stream",
     "text": [
      "6\n",
      "6\n",
      "7\n"
     ]
    }
   ],
   "source": [
    "for i in a:\n",
    "    print(i)\n",
    "    #들여쓰기 해야 된다. 파이썬"
   ]
  },
  {
   "cell_type": "code",
   "execution_count": 23,
   "metadata": {},
   "outputs": [
    {
     "name": "stdout",
     "output_type": "stream",
     "text": [
      "짝수: 1000\n",
      "홀수: 233\n",
      "짝수: 344\n",
      "홀수: 55\n",
      "홀수: 67\n",
      "짝수: 6\n",
      "짝수: 7658\n"
     ]
    }
   ],
   "source": [
    "a = [1000,233,344,55,67,6,7658]\n",
    "for i in a:\n",
    "    if i%2 == 0:\n",
    "        print(\"짝수:\" , i)\n",
    "    else:\n",
    "        print(\"홀수:\" , i)"
   ]
  },
  {
   "cell_type": "code",
   "execution_count": 25,
   "metadata": {},
   "outputs": [
    {
     "name": "stdout",
     "output_type": "stream",
     "text": [
      "1000 :  짝수\n",
      "233 :  홀수\n",
      "344 :  짝수\n",
      "55 :  홀수\n",
      "67 :  홀수\n",
      "6 :  짝수\n",
      "7658 :  짝수\n"
     ]
    }
   ],
   "source": [
    "a = [1000,233,344,55,67,6,7658]\n",
    "b = [\"짝수\", \"홀수\"]\n",
    "for i in a:\n",
    "    print(i, \": \" , b[i%2])\n",
    "    "
   ]
  },
  {
   "cell_type": "code",
   "execution_count": null,
   "metadata": {},
   "outputs": [],
   "source": []
  }
 ],
 "metadata": {
  "kernelspec": {
   "display_name": "Python 3",
   "language": "python",
   "name": "python3"
  },
  "language_info": {
   "codemirror_mode": {
    "name": "ipython",
    "version": 3
   },
   "file_extension": ".py",
   "mimetype": "text/x-python",
   "name": "python",
   "nbconvert_exporter": "python",
   "pygments_lexer": "ipython3",
   "version": "3.12.2"
  }
 },
 "nbformat": 4,
 "nbformat_minor": 2
}
